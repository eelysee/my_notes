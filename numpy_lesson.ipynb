{
 "cells": [
  {
   "cell_type": "code",
   "execution_count": 1,
   "id": "28a3b26a",
   "metadata": {},
   "outputs": [
    {
     "data": {
      "application/javascript": "IPython.notebook.set_autosave_interval(0)"
     },
     "metadata": {},
     "output_type": "display_data"
    },
    {
     "name": "stdout",
     "output_type": "stream",
     "text": [
      "Autosave disabled\n"
     ]
    }
   ],
   "source": [
    "%autosave 0"
   ]
  },
  {
   "cell_type": "markdown",
   "id": "a2c67dc6",
   "metadata": {},
   "source": [
    "Numpy makes it easy for us to work with large amounts of numerical data in arrays. Many other libraries (including Pandas) are built on Numpy. It's important to be familiar working with this library in order to understand the functionality of the other libraries."
   ]
  },
  {
   "cell_type": "code",
   "execution_count": 1,
   "id": "5dd07665",
   "metadata": {},
   "outputs": [],
   "source": [
    "#standard import\n",
    "import numpy as np"
   ]
  },
  {
   "cell_type": "markdown",
   "id": "59e02592",
   "metadata": {},
   "source": [
    "We create Numpy arrays with the np.array function. Inside the function, we can pass a list as the argument."
   ]
  },
  {
   "cell_type": "code",
   "execution_count": 5,
   "id": "ca2086f2",
   "metadata": {},
   "outputs": [
    {
     "data": {
      "text/plain": [
       "array([1, 2, 3, 4, 5])"
      ]
     },
     "execution_count": 5,
     "metadata": {},
     "output_type": "execute_result"
    }
   ],
   "source": [
    "array = np.array([1,2,3,4,5])\n",
    "array"
   ]
  },
  {
   "cell_type": "markdown",
   "id": "b499fc7c",
   "metadata": {},
   "source": [
    "We can index a Numpy array, much like a list!"
   ]
  },
  {
   "cell_type": "code",
   "execution_count": 6,
   "id": "9a786ae8",
   "metadata": {},
   "outputs": [
    {
     "data": {
      "text/plain": [
       "1"
      ]
     },
     "execution_count": 6,
     "metadata": {},
     "output_type": "execute_result"
    }
   ],
   "source": [
    "array[0]"
   ]
  },
  {
   "cell_type": "code",
   "execution_count": 7,
   "id": "74166224",
   "metadata": {},
   "outputs": [
    {
     "data": {
      "text/plain": [
       "array([3, 4, 5])"
      ]
     },
     "execution_count": 7,
     "metadata": {},
     "output_type": "execute_result"
    }
   ],
   "source": [
    "array[2:]"
   ]
  },
  {
   "cell_type": "code",
   "execution_count": 9,
   "id": "91f8117e",
   "metadata": {},
   "outputs": [
    {
     "data": {
      "text/plain": [
       "array([3, 4, 5])"
      ]
     },
     "execution_count": 9,
     "metadata": {},
     "output_type": "execute_result"
    }
   ],
   "source": [
    "array[-3:]"
   ]
  },
  {
   "cell_type": "code",
   "execution_count": 10,
   "id": "a3dd0c37",
   "metadata": {},
   "outputs": [
    {
     "data": {
      "text/plain": [
       "array([1, 2])"
      ]
     },
     "execution_count": 10,
     "metadata": {},
     "output_type": "execute_result"
    }
   ],
   "source": [
    "array[:-3]"
   ]
  },
  {
   "cell_type": "markdown",
   "id": "25065141",
   "metadata": {},
   "source": [
    "Vectorized operations allow us to perform a mathematical operation on EVERY number in an array.\n",
    "\n",
    "Let's compare how we could do the same thing with a list and a Numpy array."
   ]
  },
  {
   "cell_type": "code",
   "execution_count": 11,
   "id": "81a1286f",
   "metadata": {},
   "outputs": [
    {
     "data": {
      "text/plain": [
       "array([10, 20, 30, 40, 50])"
      ]
     },
     "execution_count": 11,
     "metadata": {},
     "output_type": "execute_result"
    }
   ],
   "source": [
    "array * 10"
   ]
  },
  {
   "cell_type": "code",
   "execution_count": 13,
   "id": "5a07c525",
   "metadata": {},
   "outputs": [],
   "source": [
    "list = [1,2,3,4,5]"
   ]
  },
  {
   "cell_type": "code",
   "execution_count": 14,
   "id": "da5450f1",
   "metadata": {},
   "outputs": [
    {
     "data": {
      "text/plain": [
       "[1,\n",
       " 2,\n",
       " 3,\n",
       " 4,\n",
       " 5,\n",
       " 1,\n",
       " 2,\n",
       " 3,\n",
       " 4,\n",
       " 5,\n",
       " 1,\n",
       " 2,\n",
       " 3,\n",
       " 4,\n",
       " 5,\n",
       " 1,\n",
       " 2,\n",
       " 3,\n",
       " 4,\n",
       " 5,\n",
       " 1,\n",
       " 2,\n",
       " 3,\n",
       " 4,\n",
       " 5,\n",
       " 1,\n",
       " 2,\n",
       " 3,\n",
       " 4,\n",
       " 5,\n",
       " 1,\n",
       " 2,\n",
       " 3,\n",
       " 4,\n",
       " 5,\n",
       " 1,\n",
       " 2,\n",
       " 3,\n",
       " 4,\n",
       " 5,\n",
       " 1,\n",
       " 2,\n",
       " 3,\n",
       " 4,\n",
       " 5,\n",
       " 1,\n",
       " 2,\n",
       " 3,\n",
       " 4,\n",
       " 5]"
      ]
     },
     "execution_count": 14,
     "metadata": {},
     "output_type": "execute_result"
    }
   ],
   "source": [
    "list * 10"
   ]
  },
  {
   "cell_type": "markdown",
   "id": "ee7038d5",
   "metadata": {},
   "source": [
    "Boolean masking is an important concept we will apply consistently with Pandas. We will get back an array filled with Boolean values, and use it to MASK (hide or remove) certain values from the output."
   ]
  },
  {
   "cell_type": "code",
   "execution_count": 18,
   "id": "ae2e9ec1",
   "metadata": {},
   "outputs": [
    {
     "data": {
      "text/plain": [
       "array([False, False, False,  True,  True])"
      ]
     },
     "execution_count": 18,
     "metadata": {},
     "output_type": "execute_result"
    }
   ],
   "source": [
    "mask = array > 3\n",
    "mask"
   ]
  },
  {
   "cell_type": "code",
   "execution_count": 19,
   "id": "1b507f15",
   "metadata": {},
   "outputs": [
    {
     "data": {
      "text/plain": [
       "array([4, 5])"
      ]
     },
     "execution_count": 19,
     "metadata": {},
     "output_type": "execute_result"
    }
   ],
   "source": [
    "array[mask]"
   ]
  },
  {
   "cell_type": "code",
   "execution_count": 20,
   "id": "43197ec5",
   "metadata": {},
   "outputs": [
    {
     "data": {
      "text/plain": [
       "array([1, 2])"
      ]
     },
     "execution_count": 20,
     "metadata": {},
     "output_type": "execute_result"
    }
   ],
   "source": [
    "array[array < 3]"
   ]
  },
  {
   "cell_type": "markdown",
   "id": "2e03f7d8",
   "metadata": {},
   "source": [
    "We can create arrays from the standard normal distribution (mean of 0, standard deviation of 1) using np.random.randn. We specify the shape of the resulting array as the argument for the function."
   ]
  },
  {
   "cell_type": "code",
   "execution_count": 21,
   "id": "c0c9908f",
   "metadata": {},
   "outputs": [
    {
     "data": {
      "text/plain": [
       "array([-2.83946292,  1.3474343 ,  0.35885348, -1.04538615, -1.15773156])"
      ]
     },
     "execution_count": 21,
     "metadata": {},
     "output_type": "execute_result"
    }
   ],
   "source": [
    "st_norm = np.random.randn(5)\n",
    "st_norm"
   ]
  },
  {
   "cell_type": "code",
   "execution_count": 22,
   "id": "df2919f4",
   "metadata": {},
   "outputs": [
    {
     "data": {
      "text/plain": [
       "array([[-1.38840694, -1.1694866 ,  1.45228889],\n",
       "       [ 0.23867342,  2.15459072,  0.94862569],\n",
       "       [ 0.40502591,  0.19589605,  2.20563842]])"
      ]
     },
     "execution_count": 22,
     "metadata": {},
     "output_type": "execute_result"
    }
   ],
   "source": [
    "np.random.randn(3,3)"
   ]
  },
  {
   "cell_type": "code",
   "execution_count": 23,
   "id": "cc26d454",
   "metadata": {},
   "outputs": [
    {
     "data": {
      "text/plain": [
       "array([[[-1.8209081 ,  1.36383819, -1.00904505],\n",
       "        [ 0.95223043, -0.13521386,  0.56078254],\n",
       "        [-0.66988454, -0.29992737, -0.47958502]],\n",
       "\n",
       "       [[ 0.6230764 , -0.3845675 , -1.08425961],\n",
       "        [ 0.06081655,  2.85811641,  0.28350638],\n",
       "        [-0.88574022,  1.7444639 , -1.50991306]],\n",
       "\n",
       "       [[-0.39471644,  1.89991971, -0.97643852],\n",
       "        [ 1.89516198,  0.79038714,  0.85600503],\n",
       "        [ 1.56731745, -0.12869944, -0.58518764]]])"
      ]
     },
     "execution_count": 23,
     "metadata": {},
     "output_type": "execute_result"
    }
   ],
   "source": [
    "np.random.randn(3 , 3 , 3)"
   ]
  },
  {
   "cell_type": "markdown",
   "id": "7bb79d65",
   "metadata": {},
   "source": [
    "We can create arrays from other normal distributions using np.random.normal. To this function, we will pass in arguments specifying the mean, the standard deviation, and the size of the resulting array."
   ]
  },
  {
   "cell_type": "code",
   "execution_count": 25,
   "id": "52f2ba1b",
   "metadata": {},
   "outputs": [
    {
     "data": {
      "text/plain": [
       "array([24.04302808, 19.58810529, 31.03416007, 30.21966558, 27.25642195])"
      ]
     },
     "execution_count": 25,
     "metadata": {},
     "output_type": "execute_result"
    }
   ],
   "source": [
    "my_norm = np.random.normal(30, 5, 5)\n",
    "my_norm"
   ]
  },
  {
   "cell_type": "markdown",
   "id": "476b3557",
   "metadata": {},
   "source": [
    "We can create arrays from a range using np.arange. We specify the starting value, the stopping value, and the step size."
   ]
  },
  {
   "cell_type": "code",
   "execution_count": 26,
   "id": "21893d97",
   "metadata": {},
   "outputs": [
    {
     "data": {
      "text/plain": [
       "array([0, 3, 6, 9])"
      ]
     },
     "execution_count": 26,
     "metadata": {},
     "output_type": "execute_result"
    }
   ],
   "source": [
    "range_array = np.arange(0, 12 , 3)\n",
    "# this is the dfinition of this one. \n",
    "# 0 , 12 , 3\n",
    "# start at 0 , go to 12 (exclusive)  ,going by 3\n",
    "range_array"
   ]
  },
  {
   "cell_type": "markdown",
   "id": "e555630b",
   "metadata": {},
   "source": [
    "We can call a number of array methods to return descriptive statistics, such as min, max, mean, standard deviation, and sum."
   ]
  },
  {
   "cell_type": "code",
   "execution_count": 27,
   "id": "d4c55d62",
   "metadata": {},
   "outputs": [
    {
     "data": {
      "text/plain": [
       "18"
      ]
     },
     "execution_count": 27,
     "metadata": {},
     "output_type": "execute_result"
    }
   ],
   "source": [
    "range_array.sum()"
   ]
  },
  {
   "cell_type": "code",
   "execution_count": 28,
   "id": "7976e7b9",
   "metadata": {},
   "outputs": [
    {
     "data": {
      "text/plain": [
       "9"
      ]
     },
     "execution_count": 28,
     "metadata": {},
     "output_type": "execute_result"
    }
   ],
   "source": [
    "range_array.max()"
   ]
  }
 ],
 "metadata": {
  "kernelspec": {
   "display_name": "Python 3 (ipykernel)",
   "language": "python",
   "name": "python3"
  },
  "language_info": {
   "codemirror_mode": {
    "name": "ipython",
    "version": 3
   },
   "file_extension": ".py",
   "mimetype": "text/x-python",
   "name": "python",
   "nbconvert_exporter": "python",
   "pygments_lexer": "ipython3",
   "version": "3.10.9"
  }
 },
 "nbformat": 4,
 "nbformat_minor": 5
}
