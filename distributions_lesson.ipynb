{
 "cells": [
  {
   "cell_type": "code",
   "execution_count": 1,
   "id": "92b8e7a8",
   "metadata": {},
   "outputs": [
    {
     "data": {
      "application/javascript": "IPython.notebook.set_autosave_interval(0)"
     },
     "metadata": {},
     "output_type": "display_data"
    },
    {
     "name": "stdout",
     "output_type": "stream",
     "text": [
      "Autosave disabled\n"
     ]
    }
   ],
   "source": [
    "%autosave 0"
   ]
  },
  {
   "cell_type": "code",
   "execution_count": 1,
   "id": "5c14a1fa",
   "metadata": {},
   "outputs": [],
   "source": [
    "import numpy as np\n",
    "from scipy import stats\n",
    "\n",
    "import matplotlib.pyplot as plt"
   ]
  },
  {
   "cell_type": "markdown",
   "id": "f7c41bcf",
   "metadata": {},
   "source": [
    "Let's define a uniform distribution for the roll of a single die."
   ]
  },
  {
   "cell_type": "code",
   "execution_count": 2,
   "id": "f398bc19",
   "metadata": {},
   "outputs": [],
   "source": [
    "dice_rolls = stats.randint(1, 7)"
   ]
  },
  {
   "cell_type": "markdown",
   "id": "cd13086d",
   "metadata": {},
   "source": [
    "We can obtain random values from the distribution using the .rvs() method."
   ]
  },
  {
   "cell_type": "code",
   "execution_count": 3,
   "id": "0218bc86",
   "metadata": {},
   "outputs": [
    {
     "data": {
      "text/plain": [
       "array([6, 1, 2, 6, 2, 5, 5, 2, 1, 6])"
      ]
     },
     "execution_count": 3,
     "metadata": {},
     "output_type": "execute_result"
    }
   ],
   "source": [
    "dice_rolls.rvs(10)"
   ]
  },
  {
   "cell_type": "markdown",
   "id": "8a83e162",
   "metadata": {},
   "source": [
    "Let's return a bunch of numbers and visualize them!"
   ]
  },
  {
   "cell_type": "code",
   "execution_count": 4,
   "id": "3fca1b2e",
   "metadata": {},
   "outputs": [],
   "source": [
    "vals = dice_rolls.rvs(10_000)"
   ]
  },
  {
   "cell_type": "code",
   "execution_count": 6,
   "id": "1c84a61c",
   "metadata": {},
   "outputs": [
    {
     "data": {
      "image/png": "[encoded data removed]",
      "text/plain": [
       "<Figure size 640x480 with 1 Axes>"
      ]
     },
     "metadata": {},
     "output_type": "display_data"
    }
   ],
   "source": [
    "plt.hist(vals, bins = range(1,8), align = 'left', color = 'gray', ec = 'black')\n",
    "plt.show()"
   ]
  },
  {
   "cell_type": "markdown",
   "id": "e4c59cb4",
   "metadata": {},
   "source": [
    "The probability mass function accepts a value and returns the probability of getting that specified value for discrete distributions.\n",
    "\n",
    "The probability density function performs the same function for continuous distributions."
   ]
  },
  {
   "cell_type": "code",
   "execution_count": 7,
   "id": "94522111",
   "metadata": {},
   "outputs": [
    {
     "data": {
      "text/plain": [
       "0.16666666666666666"
      ]
     },
     "execution_count": 7,
     "metadata": {},
     "output_type": "execute_result"
    }
   ],
   "source": [
    "dice_rolls.pmf(3)"
   ]
  },
  {
   "cell_type": "code",
   "execution_count": 10,
   "id": "aa530d4c",
   "metadata": {},
   "outputs": [
    {
     "data": {
      "text/plain": [
       "0.16666666666666666"
      ]
     },
     "execution_count": 10,
     "metadata": {},
     "output_type": "execute_result"
    }
   ],
   "source": [
    "dice_rolls.pmf(5)"
   ]
  },
  {
   "cell_type": "markdown",
   "id": "8e4d7bc9",
   "metadata": {},
   "source": [
    "The cumulative density function accepts a value and returns the probability of getting a value up to and including the specified value.\n",
    "\n",
    "The percent point function accepts a proportion and returns the value under which that proportion of values is found."
   ]
  },
  {
   "cell_type": "code",
   "execution_count": 11,
   "id": "d88b052c",
   "metadata": {},
   "outputs": [
    {
     "data": {
      "text/plain": [
       "0.5"
      ]
     },
     "execution_count": 11,
     "metadata": {},
     "output_type": "execute_result"
    }
   ],
   "source": [
    "dice_rolls.cdf(3)"
   ]
  },
  {
   "cell_type": "code",
   "execution_count": 12,
   "id": "41dd60ab",
   "metadata": {},
   "outputs": [
    {
     "data": {
      "text/plain": [
       "1.0"
      ]
     },
     "execution_count": 12,
     "metadata": {},
     "output_type": "execute_result"
    }
   ],
   "source": [
    "dice_rolls.cdf(6)"
   ]
  },
  {
   "cell_type": "code",
   "execution_count": 13,
   "id": "f04f1b3a",
   "metadata": {},
   "outputs": [
    {
     "data": {
      "text/plain": [
       "3.0"
      ]
     },
     "execution_count": 13,
     "metadata": {},
     "output_type": "execute_result"
    }
   ],
   "source": [
    "dice_rolls.ppf(0.5)"
   ]
  },
  {
   "cell_type": "code",
   "execution_count": 16,
   "id": "2aae0825",
   "metadata": {},
   "outputs": [
    {
     "data": {
      "text/plain": [
       "0.5"
      ]
     },
     "execution_count": 16,
     "metadata": {},
     "output_type": "execute_result"
    }
   ],
   "source": [
    "# upper limint and lower\n",
    "dice_rolls.cdf(3)"
   ]
  },
  {
   "cell_type": "code",
   "execution_count": 19,
   "id": "24f4c16c",
   "metadata": {},
   "outputs": [
    {
     "data": {
      "text/plain": [
       "0.5"
      ]
     },
     "execution_count": 19,
     "metadata": {},
     "output_type": "execute_result"
    }
   ],
   "source": [
    "# lower imit and upper. Exclusive call\n",
    "dice_rolls.sf(3)"
   ]
  },
  {
   "cell_type": "code",
   "execution_count": 15,
   "id": "06f7d0bb",
   "metadata": {},
   "outputs": [
    {
     "data": {
      "text/plain": [
       "5.0"
      ]
     },
     "execution_count": 15,
     "metadata": {},
     "output_type": "execute_result"
    }
   ],
   "source": [
    "dice_rolls.ppf(.7)"
   ]
  },
  {
   "cell_type": "markdown",
   "id": "5d8a89d9",
   "metadata": {},
   "source": [
    "The survival function accepts a value and returns the probability of getting a value greater than the one specified.\n",
    "\n",
    "The inverse survival function accepts a proportion and returns the value above which that proportion of values is found."
   ]
  },
  {
   "cell_type": "code",
   "execution_count": 20,
   "id": "6c90d0ba",
   "metadata": {},
   "outputs": [
    {
     "data": {
      "text/plain": [
       "0.33333333333333337"
      ]
     },
     "execution_count": 20,
     "metadata": {},
     "output_type": "execute_result"
    }
   ],
   "source": [
    "dice_rolls.sf(4)"
   ]
  },
  {
   "cell_type": "code",
   "execution_count": 21,
   "id": "42fe467e",
   "metadata": {},
   "outputs": [
    {
     "data": {
      "text/plain": [
       "0.6666666666666666"
      ]
     },
     "execution_count": 21,
     "metadata": {},
     "output_type": "execute_result"
    }
   ],
   "source": [
    "dice_rolls.cdf(4)"
   ]
  },
  {
   "cell_type": "code",
   "execution_count": 22,
   "id": "f1cb8c18",
   "metadata": {},
   "outputs": [
    {
     "data": {
      "text/plain": [
       "2.0"
      ]
     },
     "execution_count": 22,
     "metadata": {},
     "output_type": "execute_result"
    }
   ],
   "source": [
    "dice_rolls.isf(2/3)"
   ]
  },
  {
   "cell_type": "code",
   "execution_count": 23,
   "id": "43e21758",
   "metadata": {},
   "outputs": [
    {
     "data": {
      "text/plain": [
       "4.0"
      ]
     },
     "execution_count": 23,
     "metadata": {},
     "output_type": "execute_result"
    }
   ],
   "source": [
    "dice_rolls.ppf(2/3)"
   ]
  },
  {
   "cell_type": "markdown",
   "id": "8b14ff0c",
   "metadata": {},
   "source": [
    "A binomial (think binary) distribution assumes there are two possible outcomes: success and failure. We create a binomial distribution with the .binom() method, where we specify the number of trials and the probability of success. We can use the familiar methods on these distributions, too!"
   ]
  },
  {
   "cell_type": "code",
   "execution_count": 28,
   "id": "70844f7a",
   "metadata": {},
   "outputs": [
    {
     "data": {
      "text/plain": [
       "<scipy.stats._distn_infrastructure.rv_discrete_frozen at 0x7fb278b12830>"
      ]
     },
     "execution_count": 28,
     "metadata": {},
     "output_type": "execute_result"
    }
   ],
   "source": [
    "attendance = stats.binom(8, 0.95)\n",
    "attendance"
   ]
  },
  {
   "cell_type": "code",
   "execution_count": 33,
   "id": "4c16a3a4",
   "metadata": {},
   "outputs": [
    {
     "data": {
      "text/plain": [
       "array([7, 7, 8, 8, 8, 8, 8, 8, 8, 7])"
      ]
     },
     "execution_count": 33,
     "metadata": {},
     "output_type": "execute_result"
    }
   ],
   "source": [
    "# rvs is the scipi function for calling random values from a generator\n",
    "# how to chech what your generator is generating\n",
    "# checknig the .head() of your generator\n",
    "attendance.rvs(10)"
   ]
  },
  {
   "cell_type": "code",
   "execution_count": 29,
   "id": "715d7115",
   "metadata": {},
   "outputs": [
    {
     "data": {
      "text/plain": [
       "0.6634204312890623"
      ]
     },
     "execution_count": 29,
     "metadata": {},
     "output_type": "execute_result"
    }
   ],
   "source": [
    "attendance.pmf(8)"
   ]
  },
  {
   "cell_type": "code",
   "execution_count": 30,
   "id": "b3daf652",
   "metadata": {},
   "outputs": [
    {
     "data": {
      "text/plain": [
       "0.9942117820703125"
      ]
     },
     "execution_count": 30,
     "metadata": {},
     "output_type": "execute_result"
    }
   ],
   "source": [
    "attendance.sf(5)"
   ]
  },
  {
   "cell_type": "code",
   "execution_count": 35,
   "id": "c0bdd470",
   "metadata": {},
   "outputs": [
    {
     "data": {
      "text/plain": [
       "[3.906250000000028e-11,\n",
       " 5.937500000000036e-09,\n",
       " 3.948437500000023e-07,\n",
       " 1.5004062500000061e-05,\n",
       " 0.00035634648437500143,\n",
       " 0.005416466562500013,\n",
       " 0.05145643234375009,\n",
       " 0.2793349184375002,\n",
       " 0.6634204312890623]"
      ]
     },
     "execution_count": 35,
     "metadata": {},
     "output_type": "execute_result"
    }
   ],
   "source": [
    "y = [attendance.pmf(i) for i in range(0,9)]\n",
    "y"
   ]
  },
  {
   "cell_type": "code",
   "execution_count": 36,
   "id": "55ba522a",
   "metadata": {},
   "outputs": [
    {
     "data": {
      "text/plain": [
       "<BarContainer object of 9 artists>"
      ]
     },
     "execution_count": 36,
     "metadata": {},
     "output_type": "execute_result"
    },
    {
     "data": {
      "image/png": "[encoded data removed]",
      "text/plain": [
       "<Figure size 640x480 with 1 Axes>"
      ]
     },
     "metadata": {},
     "output_type": "display_data"
    }
   ],
   "source": [
    "plt.bar(x= range(0,9), height=y)"
   ]
  },
  {
   "cell_type": "code",
   "execution_count": 37,
   "id": "1c6a2ef7",
   "metadata": {},
   "outputs": [
    {
     "data": {
      "text/plain": [
       "0.005788217929687514"
      ]
     },
     "execution_count": 37,
     "metadata": {},
     "output_type": "execute_result"
    }
   ],
   "source": [
    "attendance.cdf(5)"
   ]
  },
  {
   "cell_type": "markdown",
   "id": "9c147d70",
   "metadata": {},
   "source": [
    "Normal distributions are for continuous variables. We can create a normal distribution with the .norm() method, where we specify the mean and standard deviation for the distribution."
   ]
  },
  {
   "cell_type": "code",
   "execution_count": 39,
   "id": "35116051",
   "metadata": {},
   "outputs": [],
   "source": [
    "monthly_sales = stats.norm(23_000, 2_500)"
   ]
  },
  {
   "cell_type": "code",
   "execution_count": 40,
   "id": "e8430793",
   "metadata": {},
   "outputs": [
    {
     "data": {
      "text/plain": [
       "0.00014730805612132934"
      ]
     },
     "execution_count": 40,
     "metadata": {},
     "output_type": "execute_result"
    }
   ],
   "source": [
    "monthly_sales.pdf(24_000)"
   ]
  },
  {
   "cell_type": "code",
   "execution_count": 41,
   "id": "f6cd3955",
   "metadata": {},
   "outputs": [
    {
     "data": {
      "text/plain": [
       "0.2118553985833967"
      ]
     },
     "execution_count": 41,
     "metadata": {},
     "output_type": "execute_result"
    }
   ],
   "source": [
    "monthly_sales.sf(25_000)"
   ]
  },
  {
   "cell_type": "code",
   "execution_count": 42,
   "id": "38936869",
   "metadata": {},
   "outputs": [
    {
     "data": {
      "text/plain": [
       "26203.878913861503"
      ]
     },
     "execution_count": 42,
     "metadata": {},
     "output_type": "execute_result"
    }
   ],
   "source": [
    "monthly_sales.isf(0.10)"
   ]
  },
  {
   "cell_type": "code",
   "execution_count": 43,
   "id": "e8ed865b",
   "metadata": {},
   "outputs": [
    {
     "data": {
      "text/plain": [
       "19796.121086138497"
      ]
     },
     "execution_count": 43,
     "metadata": {},
     "output_type": "execute_result"
    }
   ],
   "source": [
    "monthly_sales.ppf(0.10)"
   ]
  },
  {
   "cell_type": "markdown",
   "id": "83b8d96c",
   "metadata": {},
   "source": [
    "Poisson distributions measure how many events occur over a specific time period. We create a poisson distribution with the .poisson() method, where we only have to specify the expected value."
   ]
  },
  {
   "cell_type": "code",
   "execution_count": 45,
   "id": "fc04a12c",
   "metadata": {},
   "outputs": [
    {
     "data": {
      "text/plain": [
       "array([15, 21, 13, 13, 14, 15, 13, 15, 13, 12])"
      ]
     },
     "execution_count": 45,
     "metadata": {},
     "output_type": "execute_result"
    }
   ],
   "source": [
    "drank_coffee = stats.poisson(15)\n",
    "drank_coffee.rvs(10)"
   ]
  },
  {
   "cell_type": "code",
   "execution_count": 46,
   "id": "08ac7890",
   "metadata": {},
   "outputs": [
    {
     "data": {
      "text/plain": [
       "0.12478121503252496"
      ]
     },
     "execution_count": 46,
     "metadata": {},
     "output_type": "execute_result"
    }
   ],
   "source": [
    "drank_coffee.sf(19)"
   ]
  },
  {
   "cell_type": "code",
   "execution_count": 47,
   "id": "b2c5ef05",
   "metadata": {},
   "outputs": [
    {
     "data": {
      "text/plain": [
       "0.1024358666645339"
      ]
     },
     "execution_count": 47,
     "metadata": {},
     "output_type": "execute_result"
    }
   ],
   "source": [
    "drank_coffee.pmf(15)"
   ]
  },
  {
   "cell_type": "code",
   "execution_count": 48,
   "id": "e7da425e",
   "metadata": {},
   "outputs": [
    {
     "data": {
      "text/plain": [
       "[3.059023205018258e-07,\n",
       " 4.588534807527389e-06,\n",
       " 3.4414011056455366e-05,\n",
       " 0.00017207005528227702,\n",
       " 0.000645262707308539,\n",
       " 0.0019357881219256158,\n",
       " 0.004839470304814035,\n",
       " 0.010370293510315792,\n",
       " 0.019444300331842114,\n",
       " 0.03240716721973691,\n",
       " 0.04861075082960534,\n",
       " 0.06628738749491639,\n",
       " 0.08285923436864541,\n",
       " 0.09560680888689863,\n",
       " 0.1024358666645339,\n",
       " 0.1024358666645339,\n",
       " 0.09603362499800054,\n",
       " 0.08473555146882411,\n",
       " 0.07061295955735367,\n",
       " 0.055747073334752824,\n",
       " 0.04181030500106466,\n",
       " 0.02986450357218907,\n",
       " 0.02036216152649248,\n",
       " 0.013279670560755972,\n",
       " 0.00829979410047246,\n",
       " 0.004979876460283485]"
      ]
     },
     "execution_count": 48,
     "metadata": {},
     "output_type": "execute_result"
    }
   ],
   "source": [
    "y_poisson = [drank_coffee.pmf(i) for i in range(0,26)]\n",
    "y_poisson"
   ]
  },
  {
   "cell_type": "code",
   "execution_count": 50,
   "id": "5eb1530f",
   "metadata": {},
   "outputs": [
    {
     "data": {
      "text/plain": [
       "<BarContainer object of 26 artists>"
      ]
     },
     "execution_count": 50,
     "metadata": {},
     "output_type": "execute_result"
    },
    {
     "data": {
      "image/png": "[encoded data removed]",
      "text/plain": [
       "<Figure size 640x480 with 1 Axes>"
      ]
     },
     "metadata": {},
     "output_type": "display_data"
    }
   ],
   "source": [
    "plt.bar(x=range(0,26), height= y_poisson)"
   ]
  }
 ],
 "metadata": {
  "kernelspec": {
   "display_name": "Python 3 (ipykernel)",
   "language": "python",
   "name": "python3"
  },
  "language_info": {
   "codemirror_mode": {
    "name": "ipython",
    "version": 3
   },
   "file_extension": ".py",
   "mimetype": "text/x-python",
   "name": "python",
   "nbconvert_exporter": "python",
   "pygments_lexer": "ipython3",
   "version": "3.10.9"
  }
 },
 "nbformat": 4,
 "nbformat_minor": 5
}
