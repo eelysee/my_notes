{
 "cells": [
  {
   "cell_type": "code",
   "execution_count": 1,
   "id": "8070262e",
   "metadata": {},
   "outputs": [
    {
     "name": "stdout",
     "output_type": "stream",
     "text": [
      "Hello, Python progreammer!\n",
      "Study or die!\n"
     ]
    }
   ],
   "source": [
    "greeting = 'Hello, Python progreammer!'\n",
    "threat = 'Study or die!'\n",
    "\n",
    "\n",
    "print(greeting)\n",
    "\n",
    "print(threat)"
   ]
  },
  {
   "cell_type": "code",
   "execution_count": null,
   "id": "9219c4ed",
   "metadata": {},
   "outputs": [],
   "source": [
    "where in teh world is carmen sandiwgo\n",
    "THere has nver been a bettter business\n"
   ]
  },
  {
   "cell_type": "markdown",
   "id": "c642bcb9",
   "metadata": {},
   "source": [
    "Thid not a markdown cell"
   ]
  }
 ],
 "metadata": {
  "kernelspec": {
   "display_name": "Python 3 (ipykernel)",
   "language": "python",
   "name": "python3"
  },
  "language_info": {
   "codemirror_mode": {
    "name": "ipython",
    "version": 3
   },
   "file_extension": ".py",
   "mimetype": "text/x-python",
   "name": "python",
   "nbconvert_exporter": "python",
   "pygments_lexer": "ipython3",
   "version": "3.10.9"
  }
 },
 "nbformat": 4,
 "nbformat_minor": 5
}
