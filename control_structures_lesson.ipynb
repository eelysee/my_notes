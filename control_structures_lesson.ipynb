{
 "cells": [
  {
   "cell_type": "code",
   "execution_count": 1,
   "id": "c0631b47",
   "metadata": {},
   "outputs": [
    {
     "data": {
      "application/javascript": "IPython.notebook.set_autosave_interval(0)"
     },
     "metadata": {},
     "output_type": "display_data"
    },
    {
     "name": "stdout",
     "output_type": "stream",
     "text": [
      "Autosave disabled\n"
     ]
    }
   ],
   "source": [
    "%autosave 0"
   ]
  },
  {
   "attachments": {},
   "cell_type": "markdown",
   "id": "c5b1750c",
   "metadata": {},
   "source": [
    "# Control structures lesson\n",
    "1. If/elif/else\n",
    "1. For loop\n",
    "1. List comprehension\n",
    "1. While loop\n",
    "1. Break and continue\n",
    "1. Prompt user for input"
   ]
  },
  {
   "attachments": {},
   "cell_type": "markdown",
   "id": "6a1b3863",
   "metadata": {},
   "source": [
    "### If/else\n",
    "\n",
    "If some condition is met, execute the following code.\n",
    "\n",
    "If it's not, execute the code under the else statement!"
   ]
  },
  {
   "cell_type": "code",
   "execution_count": 10,
   "id": "34008f9b",
   "metadata": {},
   "outputs": [
    {
     "name": "stdout",
     "output_type": "stream",
     "text": [
      "Finally, a mild day.\n"
     ]
    }
   ],
   "source": [
    "temp = 65\n",
    "if temp > 85:\n",
    "    print('Gee , whizz it\\'s hot!')\n",
    "elif temp > 65:\n",
    "    print('Still a bit warm.')\n",
    "else:\n",
    "    print('Finally, a mild day.')"
   ]
  },
  {
   "attachments": {},
   "cell_type": "markdown",
   "id": "c7e093e8",
   "metadata": {},
   "source": [
    "### For loop\n",
    "\n",
    "For item in list, perform some operation!"
   ]
  },
  {
   "cell_type": "code",
   "execution_count": 13,
   "id": "8691a441",
   "metadata": {},
   "outputs": [
    {
     "data": {
      "text/plain": [
       "[1, 4, 9, 16, 25, 36, 49, 64, 81, 100]"
      ]
     },
     "execution_count": 13,
     "metadata": {},
     "output_type": "execute_result"
    }
   ],
   "source": [
    "our_numbers = list(range(1 , 11))\n",
    "sq_our_number = []\n",
    "for i in our_numbers:\n",
    "    # print(i**2)\n",
    "    sq_our_number.append(i**2)\n",
    "\n",
    "sq_our_number"
   ]
  },
  {
   "attachments": {},
   "cell_type": "markdown",
   "id": "4b2fc0f6",
   "metadata": {},
   "source": [
    "### List comprehension\n",
    "\n",
    "Place the results of a for loop back into a list.. immediately!"
   ]
  },
  {
   "cell_type": "code",
   "execution_count": 14,
   "id": "b6001342",
   "metadata": {},
   "outputs": [
    {
     "data": {
      "text/plain": [
       "[1, 4, 9, 16, 25, 36, 49, 64, 81, 100]"
      ]
     },
     "execution_count": 14,
     "metadata": {},
     "output_type": "execute_result"
    }
   ],
   "source": [
    "[i**2 for i in our_numbers]"
   ]
  },
  {
   "attachments": {},
   "cell_type": "markdown",
   "id": "0e69b12f",
   "metadata": {},
   "source": [
    "### While loop\n",
    "\n",
    "While some conditional statement evaluates to true, continue to execute the code.\n",
    "\n",
    "When the conditional statement evaluates to false, the loop breaks!"
   ]
  },
  {
   "cell_type": "code",
   "execution_count": 17,
   "id": "71c7f8d2",
   "metadata": {},
   "outputs": [
    {
     "name": "stdout",
     "output_type": "stream",
     "text": [
      "1\n",
      "4\n",
      "9\n",
      "16\n",
      "25\n",
      "36\n",
      "49\n",
      "64\n",
      "81\n",
      "100\n"
     ]
    }
   ],
   "source": [
    "i = 1\n",
    "while i < 11:\n",
    "    print(i**2)\n",
    "    i += 1"
   ]
  },
  {
   "attachments": {},
   "cell_type": "markdown",
   "id": "ebd0ed8b",
   "metadata": {},
   "source": [
    "### Break and continue\n",
    "\n",
    "The break keyword will \"break\" us out of the looping structure.\n",
    "\n",
    "The continue keyword will move us to the next iteration of the loop."
   ]
  },
  {
   "cell_type": "code",
   "execution_count": 21,
   "id": "e4515cb6",
   "metadata": {},
   "outputs": [
    {
     "name": "stdout",
     "output_type": "stream",
     "text": [
      "1\n",
      "2\n",
      "3\n",
      "4\n",
      "5\n",
      "I am out of fingers on my left hand!\n"
     ]
    }
   ],
   "source": [
    "i = 1\n",
    "\n",
    "while i < 11:\n",
    "    print(i)\n",
    "    if i == 5:\n",
    "        print('I am out of fingers on my left hand!')\n",
    "        break\n",
    "    \n",
    "    i += 1"
   ]
  },
  {
   "cell_type": "code",
   "execution_count": 22,
   "id": "c178df62",
   "metadata": {},
   "outputs": [
    {
     "name": "stdout",
     "output_type": "stream",
     "text": [
      "1\n",
      "3\n",
      "5\n",
      "7\n",
      "9\n"
     ]
    }
   ],
   "source": [
    "i = 1\n",
    "while i < 11:\n",
    "    if i % 2 == 0:\n",
    "        i += 1\n",
    "        continue\n",
    "    \n",
    "    print(i)\n",
    "\n",
    "    i += 1"
   ]
  },
  {
   "attachments": {},
   "cell_type": "markdown",
   "id": "72088e9c",
   "metadata": {},
   "source": [
    "### Prompt user for input\n",
    "\n",
    "Use the input() function to get input from the user."
   ]
  },
  {
   "cell_type": "code",
   "execution_count": 39,
   "id": "d07fd869",
   "metadata": {},
   "outputs": [],
   "source": [
    "your_number = input('Enter something  integer')"
   ]
  },
  {
   "cell_type": "code",
   "execution_count": 40,
   "id": "07a61ccb",
   "metadata": {},
   "outputs": [
    {
     "name": "stdout",
     "output_type": "stream",
     "text": [
      "88\n"
     ]
    }
   ],
   "source": [
    "print(your_number)"
   ]
  },
  {
   "cell_type": "code",
   "execution_count": 46,
   "id": "1d93bf1d",
   "metadata": {},
   "outputs": [
    {
     "data": {
      "text/plain": [
       "str"
      ]
     },
     "execution_count": 46,
     "metadata": {},
     "output_type": "execute_result"
    }
   ],
   "source": [
    "type(your_number)"
   ]
  },
  {
   "cell_type": "code",
   "execution_count": 47,
   "id": "cde1d98d",
   "metadata": {},
   "outputs": [],
   "source": [
    "your_number = int(your_number)"
   ]
  },
  {
   "cell_type": "code",
   "execution_count": 48,
   "id": "ccbc881e",
   "metadata": {},
   "outputs": [
    {
     "data": {
      "text/plain": [
       "int"
      ]
     },
     "execution_count": 48,
     "metadata": {},
     "output_type": "execute_result"
    }
   ],
   "source": [
    "type(your_number)"
   ]
  },
  {
   "cell_type": "code",
   "execution_count": 51,
   "id": "0548579b",
   "metadata": {},
   "outputs": [
    {
     "data": {
      "text/plain": [
       "[0, 2, 4, 6, 8, 10, 12, 14, 16, 18]"
      ]
     },
     "execution_count": 51,
     "metadata": {},
     "output_type": "execute_result"
    }
   ],
   "source": [
    "[n * 2 for n in range(10)]\n"
   ]
  }
 ],
 "metadata": {
  "kernelspec": {
   "display_name": "Python 3 (ipykernel)",
   "language": "python",
   "name": "python3"
  },
  "language_info": {
   "codemirror_mode": {
    "name": "ipython",
    "version": 3
   },
   "file_extension": ".py",
   "mimetype": "text/x-python",
   "name": "python",
   "nbconvert_exporter": "python",
   "pygments_lexer": "ipython3",
   "version": "3.10.9"
  }
 },
 "nbformat": 4,
 "nbformat_minor": 5
}
